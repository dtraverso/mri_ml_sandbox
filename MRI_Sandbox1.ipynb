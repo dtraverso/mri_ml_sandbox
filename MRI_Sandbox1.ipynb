{
  "nbformat": 4,
  "nbformat_minor": 0,
  "metadata": {
    "colab": {
      "name": "MRI_Sandbox1.ipynb",
      "provenance": [],
      "collapsed_sections": [],
      "include_colab_link": true
    },
    "kernelspec": {
      "name": "python3",
      "display_name": "Python 3"
    },
    "accelerator": "GPU"
  },
  "cells": [
    {
      "cell_type": "markdown",
      "metadata": {
        "id": "view-in-github",
        "colab_type": "text"
      },
      "source": [
        "<a href=\"https://colab.research.google.com/github/dtraverso/mri_ml_sandbox/blob/master/MRI_Sandbox1.ipynb\" target=\"_parent\"><img src=\"https://colab.research.google.com/assets/colab-badge.svg\" alt=\"Open In Colab\"/></a>"
      ]
    },
    {
      "cell_type": "markdown",
      "metadata": {
        "id": "6Ocm6A50JLtO",
        "colab_type": "text"
      },
      "source": [
        "# Spinal Cord Gray Matter Segmentation Using PyTorch\n",
        "In this notebook we are going to explore a medical imaging open-source library known as [MedicalTorch](https://github.com/perone/medicaltorch), which was built on top of PyTorch. MedicalTorch offers many capabilities such as pre-processing of images, transformations, and data loaders. With the tools it is possible to explore and preprocess MRI-based datasets that contain images such as shown in the image below.  \n",
        "\n",
        "![alt txt](https://docs.google.com/drawings/d/e/2PACX-1vQmKTAQEz_zoomKa0HchswOUunHQTO3gDoH_VnXfcZdl8N3H0L-aGvM9GqQiiLi-bL0ME4-IoU6cv7g/pub?w=928&h=499)\n",
        "\n",
        "Image credit: [Perone et al.,2017](https://arxiv.org/pdf/1710.01269.pdf)"
      ]
    },
    {
      "cell_type": "markdown",
      "metadata": {
        "id": "r8sWyzGOJ02-",
        "colab_type": "text"
      },
      "source": [
        "## Installing Libraries\n",
        "Below we will show you how to install the medicaltorch library along with some other libraries."
      ]
    },
    {
      "cell_type": "code",
      "metadata": {
        "id": "j6i5yyesD9xg",
        "colab_type": "code",
        "outputId": "2ed18e39-4cd3-4e33-af31-a698a3422555",
        "colab": {
          "base_uri": "https://localhost:8080/",
          "height": 476
        }
      },
      "source": [
        "!pip3 install torch \n",
        "!pip3 install torchvision\n",
        "!pip install medicaltorch\n",
        "!pip3 install numpy\n",
        "!pip install tensorboardX\n",
        "\n",
        "import torch\n",
        "print(torch.__version__)\n",
        "import numpy as np\n",
        "print(np.__version__)"
      ],
      "execution_count": 17,
      "outputs": [
        {
          "output_type": "stream",
          "text": [
            "Requirement already satisfied: torch in /usr/local/lib/python3.6/dist-packages (1.2.0)\n",
            "Requirement already satisfied: numpy in /usr/local/lib/python3.6/dist-packages (from torch) (1.16.5)\n",
            "Requirement already satisfied: torchvision in /usr/local/lib/python3.6/dist-packages (0.4.0)\n",
            "Requirement already satisfied: pillow>=4.1.1 in /usr/local/lib/python3.6/dist-packages (from torchvision) (4.3.0)\n",
            "Requirement already satisfied: torch==1.2.0 in /usr/local/lib/python3.6/dist-packages (from torchvision) (1.2.0)\n",
            "Requirement already satisfied: six in /usr/local/lib/python3.6/dist-packages (from torchvision) (1.12.0)\n",
            "Requirement already satisfied: numpy in /usr/local/lib/python3.6/dist-packages (from torchvision) (1.16.5)\n",
            "Requirement already satisfied: olefile in /usr/local/lib/python3.6/dist-packages (from pillow>=4.1.1->torchvision) (0.46)\n",
            "Requirement already satisfied: medicaltorch in /usr/local/lib/python3.6/dist-packages (0.2)\n",
            "Requirement already satisfied: numpy>=1.14.1 in /usr/local/lib/python3.6/dist-packages (from medicaltorch) (1.16.5)\n",
            "Requirement already satisfied: nibabel>=2.2.1 in /usr/local/lib/python3.6/dist-packages (from medicaltorch) (2.3.3)\n",
            "Requirement already satisfied: torchvision>=0.2.1 in /usr/local/lib/python3.6/dist-packages (from medicaltorch) (0.4.0)\n",
            "Requirement already satisfied: tqdm>=4.23.0 in /usr/local/lib/python3.6/dist-packages (from medicaltorch) (4.28.1)\n",
            "Requirement already satisfied: scipy>=1.0.0 in /usr/local/lib/python3.6/dist-packages (from medicaltorch) (1.3.1)\n",
            "Requirement already satisfied: torch>=0.4.0 in /usr/local/lib/python3.6/dist-packages (from medicaltorch) (1.2.0)\n",
            "Requirement already satisfied: bz2file in /usr/local/lib/python3.6/dist-packages (from nibabel>=2.2.1->medicaltorch) (0.98)\n",
            "Requirement already satisfied: six>=1.3 in /usr/local/lib/python3.6/dist-packages (from nibabel>=2.2.1->medicaltorch) (1.12.0)\n",
            "Requirement already satisfied: pillow>=4.1.1 in /usr/local/lib/python3.6/dist-packages (from torchvision>=0.2.1->medicaltorch) (4.3.0)\n",
            "Requirement already satisfied: olefile in /usr/local/lib/python3.6/dist-packages (from pillow>=4.1.1->torchvision>=0.2.1->medicaltorch) (0.46)\n",
            "Requirement already satisfied: numpy in /usr/local/lib/python3.6/dist-packages (1.16.5)\n",
            "Requirement already satisfied: tensorboardX in /usr/local/lib/python3.6/dist-packages (1.9)\n",
            "Requirement already satisfied: protobuf>=3.8.0 in /usr/local/lib/python3.6/dist-packages (from tensorboardX) (3.10.0)\n",
            "Requirement already satisfied: six in /usr/local/lib/python3.6/dist-packages (from tensorboardX) (1.12.0)\n",
            "Requirement already satisfied: numpy in /usr/local/lib/python3.6/dist-packages (from tensorboardX) (1.16.5)\n",
            "Requirement already satisfied: setuptools in /usr/local/lib/python3.6/dist-packages (from protobuf>=3.8.0->tensorboardX) (41.2.0)\n",
            "1.2.0\n",
            "1.16.5\n"
          ],
          "name": "stdout"
        }
      ]
    },
    {
      "cell_type": "markdown",
      "metadata": {
        "id": "eLl8FqLxJafE",
        "colab_type": "text"
      },
      "source": [
        ""
      ]
    },
    {
      "cell_type": "markdown",
      "metadata": {
        "id": "bh8sG3huKAK_",
        "colab_type": "text"
      },
      "source": [
        "## Mounting Data From Google Drive\n",
        "I have stored the MRI images on my personal Google Drive, which I acquired from [GM SC Challenge](http://niftyweb.cs.ucl.ac.uk/challenge/index.php#citation) website."
      ]
    },
    {
      "cell_type": "code",
      "metadata": {
        "id": "K_wJ_CLuJrQW",
        "colab_type": "code",
        "colab": {
          "base_uri": "https://localhost:8080/",
          "height": 34
        },
        "outputId": "f7b1fd1b-b5b0-4ee0-a931-113f6f4e8bec"
      },
      "source": [
        "from google.colab import drive\n",
        "drive.mount('/content/gdrive')"
      ],
      "execution_count": 18,
      "outputs": [
        {
          "output_type": "stream",
          "text": [
            "Drive already mounted at /content/gdrive; to attempt to forcibly remount, call drive.mount(\"/content/gdrive\", force_remount=True).\n"
          ],
          "name": "stdout"
        }
      ]
    },
    {
      "cell_type": "markdown",
      "metadata": {
        "id": "skSsekZCJ73-",
        "colab_type": "text"
      },
      "source": [
        "# Library Importation\n",
        "We need to now import a number of the libraries we downloaded & installed, as well as provide them with shorthand aliases for convienence."
      ]
    },
    {
      "cell_type": "code",
      "metadata": {
        "id": "3iem4fgCETQ8",
        "colab_type": "code",
        "colab": {}
      },
      "source": [
        "from collections import defaultdict\n",
        "import time\n",
        "import os\n",
        "\n",
        "import numpy as np\n",
        "from matplotlib import pyplot as plt\n",
        "\n",
        "from tqdm import tqdm\n",
        "\n",
        "from tensorboardX import SummaryWriter\n",
        "\n",
        "from medicaltorch import datasets as mt_datasets\n",
        "from medicaltorch import models as mt_models\n",
        "from medicaltorch import transforms as mt_transforms\n",
        "from medicaltorch import losses as mt_losses\n",
        "from medicaltorch import metrics as mt_metrics\n",
        "from medicaltorch import filters as mt_filters\n",
        "\n",
        "import torch\n",
        "from torchvision import transforms\n",
        "from torch.utils.data import DataLoader\n",
        "from torch import autograd, optim\n",
        "import torch.backends.cudnn as cudnn\n",
        "import torch.nn as nn\n",
        "\n",
        "import torchvision.utils as vutils\n",
        "\n",
        "cudnn.benchmark = True"
      ],
      "execution_count": 0,
      "outputs": []
    },
    {
      "cell_type": "markdown",
      "metadata": {
        "id": "1z836WKgLCXC",
        "colab_type": "text"
      },
      "source": [
        "### Data Exploration\n",
        "Before we do any modeling stuff, let's investigate our data first. Let's look at one sample (MRI image) from the dataset. We will see the preprocessing module `mt_datasets.SegmentationPair2D` which is used to read and format the data in a way that we can better explore it in our environment. See the example below."
      ]
    },
    {
      "cell_type": "code",
      "metadata": {
        "id": "jT_aZtlAEWeM",
        "colab_type": "code",
        "colab": {}
      },
      "source": [
        "ROOT_DIR_GMCHALLENGE = \"gdrive/My Drive/SANDBOX/medical_imaging/train/\"\n",
        "mri_input_filename = os.path.join(ROOT_DIR_GMCHALLENGE,\n",
        "                                          'site1-sc01-image.nii.gz')\n",
        "mri_gt_filename = os.path.join(ROOT_DIR_GMCHALLENGE,\n",
        "                                       'site1-sc01-mask-r1.nii.gz')\n",
        "\n",
        "pair = mt_datasets.SegmentationPair2D(mri_input_filename, mri_gt_filename)\n",
        "slice_pair = pair.get_pair_slice(0)\n",
        "input_slice = slice_pair[\"input\"]\n",
        "gt_slice = slice_pair[\"gt\"]"
      ],
      "execution_count": 0,
      "outputs": []
    },
    {
      "cell_type": "code",
      "metadata": {
        "id": "ZwnSf4yYK5N6",
        "colab_type": "code",
        "colab": {
          "base_uri": "https://localhost:8080/",
          "height": 34
        },
        "outputId": "49de8149-9323-4d93-ce5b-b0732fc2d518"
      },
      "source": [
        "print(input_slice.shape)"
      ],
      "execution_count": 21,
      "outputs": [
        {
          "output_type": "stream",
          "text": [
            "(100, 100)\n"
          ],
          "name": "stdout"
        }
      ]
    },
    {
      "cell_type": "markdown",
      "metadata": {
        "id": "X6oSqonSK8rc",
        "colab_type": "text"
      },
      "source": [
        "Printing the image array shape we can see that the images are 100 X 100 dimensions. We can also view the image in our environment using matplotlib."
      ]
    },
    {
      "cell_type": "code",
      "metadata": {
        "id": "hZIE_xEWLM6S",
        "colab_type": "code",
        "colab": {
          "base_uri": "https://localhost:8080/",
          "height": 269
        },
        "outputId": "11f742cb-5365-4a0c-88c9-7dd88ad4464a"
      },
      "source": [
        "img = input_slice\n",
        "plt.imshow(img)\n",
        "plt.show()"
      ],
      "execution_count": 22,
      "outputs": [
        {
          "output_type": "display_data",
          "data": {
            "image/png": "[encoded data removed]",
            "text/plain": [
              "<Figure size 432x288 with 1 Axes>"
            ]
          },
          "metadata": {
            "tags": []
          }
        }
      ]
    },
    {
      "cell_type": "code",
      "metadata": {
        "id": "EpAy-If_LNX4",
        "colab_type": "code",
        "colab": {
          "base_uri": "https://localhost:8080/",
          "height": 269
        },
        "outputId": "fd80a469-7931-4a30-bdfe-c9c70a5dff1e"
      },
      "source": [
        "img = gt_slice\n",
        "plt.imshow(img)\n",
        "plt.show()"
      ],
      "execution_count": 23,
      "outputs": [
        {
          "output_type": "display_data",
          "data": {
            "image/png": "[encoded data removed]",
            "text/plain": [
              "<Figure size 432x288 with 1 Axes>"
            ]
          },
          "metadata": {
            "tags": []
          }
        }
      ]
    },
    {
      "cell_type": "markdown",
      "metadata": {
        "id": "ke2otLTVLV9t",
        "colab_type": "text"
      },
      "source": [
        "The upper image shows an in vivo axial-slice sample while the lower image shows the spinal cord gray matter segmentation. Intuitively, the dataset contains the necessary information to conduct gray matter segmentation using deep learning techniques such as encode/decoder frameworks and deep convolutional neural networks."
      ]
    },
    {
      "cell_type": "code",
      "metadata": {
        "id": "nx5hqjPhHXYl",
        "colab_type": "code",
        "outputId": "6139abdb-0bee-48c1-985a-47493626af66",
        "colab": {
          "base_uri": "https://localhost:8080/",
          "height": 34
        }
      },
      "source": [
        "# transformer\n",
        "composed_transform = transforms.Compose([\n",
        "            mt_transforms.Resample(0.25, 0.25),\n",
        "            mt_transforms.CenterCrop2D((200, 200)),\n",
        "            mt_transforms.ToTensor(),\n",
        "])\n",
        "\n",
        "# load data\n",
        "train_dataset = mt_datasets.SCGMChallenge2DTrain(root_dir=ROOT_DIR_GMCHALLENGE, transform=composed_transform)\n",
        "\n",
        "# PyTorch data loader\n",
        "dataloader = DataLoader(train_dataset, batch_size=4,\n",
        "                        shuffle=True, num_workers=4,\n",
        "                        collate_fn=mt_datasets.mt_collate)\n",
        "\n",
        "# get minibatch\n",
        "minibatch = next(iter(dataloader))\n",
        "\n",
        "# check minibatch size\n",
        "minibatch['input'].size()\n",
        "\n",
        "### output\n",
        "# torch.Size([4, 1, 200, 200])"
      ],
      "execution_count": 24,
      "outputs": [
        {
          "output_type": "execute_result",
          "data": {
            "text/plain": [
              "torch.Size([4, 1, 200, 200])"
            ]
          },
          "metadata": {
            "tags": []
          },
          "execution_count": 24
        }
      ]
    },
    {
      "cell_type": "markdown",
      "metadata": {
        "id": "pKo7LpP40KkA",
        "colab_type": "text"
      },
      "source": [
        "## Constructing The Segmentation Model\n",
        "We saw the images above, now we want to build the gray matter segmentation model with the MRI spinal cord images provided above. Let's define a helper function that helps to decide the final predictions of the model."
      ]
    },
    {
      "cell_type": "code",
      "metadata": {
        "id": "VKD-APc6I8Xe",
        "colab_type": "code",
        "colab": {}
      },
      "source": [
        "def threshold_predictions(predictions, thr=0.999):\n",
        "    thresholded_preds = predictions[:]\n",
        "    low_values_indices = thresholded_preds < thr\n",
        "    thresholded_preds[low_values_indices] = 0\n",
        "    low_values_indices = thresholded_preds >= thr\n",
        "    thresholded_preds[low_values_indices] = 1\n",
        "    return thresholded_preds"
      ],
      "execution_count": 0,
      "outputs": []
    },
    {
      "cell_type": "markdown",
      "metadata": {
        "id": "JYZQ_NEANaOf",
        "colab_type": "text"
      },
      "source": [
        "And here are all the transformations to both the training and validation dataset.\n",
        "\n"
      ]
    },
    {
      "cell_type": "code",
      "metadata": {
        "id": "d4AYYzZUI90y",
        "colab_type": "code",
        "colab": {}
      },
      "source": [
        "train_transform = transforms.Compose([\n",
        "        mt_transforms.Resample(0.25, 0.25),\n",
        "        mt_transforms.CenterCrop2D((200, 200)),\n",
        "        mt_transforms.ElasticTransform(alpha_range=(28.0, 30.0),\n",
        "                                       sigma_range=(3.5, 4.0),\n",
        "                                       p=0.3),\n",
        "        mt_transforms.RandomAffine(degrees=4.6,\n",
        "                                   scale=(0.98, 1.02),\n",
        "                                   translate=(0.03, 0.03)),\n",
        "        mt_transforms.RandomTensorChannelShift((-0.10, 0.10)),\n",
        "        mt_transforms.ToTensor(),\n",
        "        mt_transforms.NormalizeInstance(),\n",
        "])\n",
        "\n",
        "val_transform = transforms.Compose([\n",
        "        mt_transforms.Resample(0.25, 0.25),\n",
        "        mt_transforms.CenterCrop2D((200, 200)),\n",
        "        mt_transforms.ToTensor(),\n",
        "        mt_transforms.NormalizeInstance(),\n",
        "])"
      ],
      "execution_count": 0,
      "outputs": []
    },
    {
      "cell_type": "code",
      "metadata": {
        "id": "binIxh8vJD4m",
        "colab_type": "code",
        "colab": {}
      },
      "source": [
        "### training dataset with 80/20 split\n",
        "TRAIN_ROOT_DIR_GMCHALLENGE = \"gdrive/My Drive/SANDBOX/medical_imaging/train/\"\n",
        "\n",
        "gmdataset_train = mt_datasets.SCGMChallenge2DTrain(root_dir=TRAIN_ROOT_DIR_GMCHALLENGE,\n",
        "                                                   subj_ids=range(1, 9),\n",
        "                                                   transform=train_transform,\n",
        "                                                   slice_filter_fn=mt_filters.SliceFilter())\n",
        "\n",
        "gmdataset_val = mt_datasets.SCGMChallenge2DTrain(root_dir=TRAIN_ROOT_DIR_GMCHALLENGE,\n",
        "                                                 subj_ids=range(9, 11),\n",
        "                                                 transform=val_transform)"
      ],
      "execution_count": 0,
      "outputs": []
    },
    {
      "cell_type": "code",
      "metadata": {
        "id": "fyDzaivVJIyk",
        "colab_type": "code",
        "outputId": "88c0460d-6eb4-4252-e0a3-7f8495da908a",
        "colab": {
          "base_uri": "https://localhost:8080/",
          "height": 34
        }
      },
      "source": [
        "print(len(gmdataset_train))"
      ],
      "execution_count": 28,
      "outputs": [
        {
          "output_type": "stream",
          "text": [
            "1423\n"
          ],
          "name": "stdout"
        }
      ]
    },
    {
      "cell_type": "code",
      "metadata": {
        "id": "hXL4vE9XMVh3",
        "colab_type": "code",
        "colab": {}
      },
      "source": [
        "train_loader = DataLoader(gmdataset_train, batch_size=16,\n",
        "                          shuffle=True, pin_memory=True,\n",
        "                          collate_fn=mt_datasets.mt_collate,\n",
        "                          num_workers=1)\n",
        "\n",
        "val_loader = DataLoader(gmdataset_val, batch_size=16,\n",
        "                        shuffle=True, pin_memory=True,\n",
        "                        collate_fn=mt_datasets.mt_collate,\n",
        "                        num_workers=1)"
      ],
      "execution_count": 0,
      "outputs": []
    },
    {
      "cell_type": "markdown",
      "metadata": {
        "id": "4xvvubINbeo4",
        "colab_type": "text"
      },
      "source": [
        "### Model and Parameters\n",
        "Below we declare our model and parameters. Note that we are using GPU in this notebook. Also note that the model used below refers to the U-net convolutional-based architecture proposed by [Ronneberger et al., 2015](https://arxiv.org/abs/1505.04597), which essentially aggregates semantic information to perform the segmentation. See a figure of the U-net framework below. You can also refer to the medicaltorch [API documentation](https://medicaltorch.readthedocs.io/en/stable/modules.html#module-medicaltorch.models) for more available state-of-the-art implementations. \n",
        "\n",
        "![alt txt](https://docs.google.com/drawings/d/e/2PACX-1vT2miqwBsJpm9vX2lH7GRJaMWw3ym9Ld3MNY-10rpKIQJoXvfsRbIu1OpndIn4BJqYUtpq3wZcwmS9v/pub?w=921&h=624)\n",
        "\n",
        "Image Credit: [Ronneberger et al., 2015](https://arxiv.org/abs/1505.04597)"
      ]
    },
    {
      "cell_type": "code",
      "metadata": {
        "id": "ikE5grVTJnTO",
        "colab_type": "code",
        "colab": {}
      },
      "source": [
        "model = mt_models.Unet(drop_rate=0.4, bn_momentum=0.1)\n",
        "model.cuda()\n",
        "num_epochs = 10\n",
        "initial_lr = 0.001\n",
        "optimizer = optim.Adam(model.parameters(), lr=initial_lr)\n",
        "scheduler = optim.lr_scheduler.CosineAnnealingLR(optimizer, num_epochs)"
      ],
      "execution_count": 0,
      "outputs": []
    },
    {
      "cell_type": "markdown",
      "metadata": {
        "id": "JiT8ivZDNEj6",
        "colab_type": "text"
      },
      "source": [
        "Some helper functions to produce the desired metrics for the model such as accuracy.\n",
        "\n"
      ]
    },
    {
      "cell_type": "code",
      "metadata": {
        "id": "S0cgBPiEJn3p",
        "colab_type": "code",
        "colab": {}
      },
      "source": [
        "def numeric_score(prediction, groundtruth):\n",
        "    FP = np.float(np.sum((prediction == 1) & (groundtruth == 0)))\n",
        "    FN = np.float(np.sum((prediction == 0) & (groundtruth == 1)))\n",
        "    TP = np.float(np.sum((prediction == 1) & (groundtruth == 1)))\n",
        "    TN = np.float(np.sum((prediction == 0) & (groundtruth == 0)))\n",
        "    return FP, FN, TP, TN \n",
        "  \n",
        "def accuracy(prediction, groundtruth):\n",
        "    FP, FN, TP, TN = numeric_score(prediction, groundtruth)\n",
        "    N = FP + FN + TP + TN\n",
        "    accuracy = np.divide(TP + TN, N)\n",
        "    return accuracy * 100.0"
      ],
      "execution_count": 0,
      "outputs": []
    },
    {
      "cell_type": "markdown",
      "metadata": {
        "id": "vJ8cOB2DcEWt",
        "colab_type": "text"
      },
      "source": [
        "### Training \n",
        "Now we finally train the model for spinal cord gray matter segmentation. We report the training and testing accuracy below and train for 10 epochs only. "
      ]
    },
    {
      "cell_type": "code",
      "metadata": {
        "id": "C4SbPLojJqLp",
        "colab_type": "code",
        "outputId": "6433bf4b-fd9a-4d3a-d125-d4e04e61f977",
        "colab": {
          "base_uri": "https://localhost:8080/",
          "height": 700
        }
      },
      "source": [
        "for epoch in tqdm(range(1, num_epochs+1)):\n",
        "    start_time = time.time()\n",
        "\n",
        "    scheduler.step()\n",
        "\n",
        "    lr = scheduler.get_lr()[0]\n",
        "\n",
        "    model.train()\n",
        "    train_loss_total = 0.0\n",
        "    num_steps = 0\n",
        "    \n",
        "    ### Training\n",
        "    for i, batch in enumerate(train_loader):\n",
        "        input_samples, gt_samples = batch[\"input\"], batch[\"gt\"]\n",
        "\n",
        "        var_input = input_samples.cuda()\n",
        "        var_gt = gt_samples.cuda(async=True)\n",
        "\n",
        "        preds = model(var_input)\n",
        "\n",
        "        loss = mt_losses.dice_loss(preds, var_gt)\n",
        "        train_loss_total += loss.item()\n",
        "\n",
        "        optimizer.zero_grad()\n",
        "        loss.backward()\n",
        "        optimizer.step()\n",
        "        num_steps += 1\n",
        "\n",
        "        if epoch % 5 == 0:\n",
        "            grid_img = vutils.make_grid(input_samples,\n",
        "                                        normalize=True,\n",
        "                                        scale_each=True)\n",
        "            \n",
        "\n",
        "            grid_img = vutils.make_grid(preds.data.cpu(),\n",
        "                                        normalize=True,\n",
        "                                        scale_each=True)\n",
        "            \n",
        "\n",
        "            grid_img = vutils.make_grid(gt_samples,\n",
        "                                        normalize=True,\n",
        "                                        scale_each=True)\n",
        "   \n",
        "    \n",
        "    train_loss_total_avg = train_loss_total / num_steps\n",
        "    model.eval()\n",
        "    val_loss_total = 0.0\n",
        "    num_steps = 0\n",
        "    train_acc  = accuracy(preds.cpu().detach().numpy(), \n",
        "                          var_gt.cpu().detach().numpy())\n",
        "    \n",
        "    metric_fns = [mt_metrics.dice_score,\n",
        "                  mt_metrics.hausdorff_score,\n",
        "                  mt_metrics.precision_score,\n",
        "                  mt_metrics.recall_score,\n",
        "                  mt_metrics.specificity_score,\n",
        "                  mt_metrics.intersection_over_union,\n",
        "                  mt_metrics.accuracy_score]\n",
        "\n",
        "    metric_mgr = mt_metrics.MetricManager(metric_fns)\n",
        "            \n",
        "    ### Validating\n",
        "    for i, batch in enumerate(val_loader):\n",
        "        input_samples, gt_samples = batch[\"input\"], batch[\"gt\"]\n",
        "\n",
        "        with torch.no_grad():\n",
        "            var_input = input_samples.cuda()\n",
        "            var_gt = gt_samples.cuda(async=True)\n",
        "\n",
        "            preds = model(var_input)\n",
        "            loss = mt_losses.dice_loss(preds, var_gt)\n",
        "            val_loss_total += loss.item()\n",
        "\n",
        "        # Metrics computation\n",
        "        gt_npy = gt_samples.numpy().astype(np.uint8)\n",
        "        gt_npy = gt_npy.squeeze(axis=1)\n",
        "\n",
        "        preds = preds.data.cpu().numpy()\n",
        "        preds = threshold_predictions(preds)\n",
        "        preds = preds.astype(np.uint8)\n",
        "        preds = preds.squeeze(axis=1)\n",
        "\n",
        "        metric_mgr(preds, gt_npy)\n",
        "\n",
        "        num_steps += 1\n",
        "        \n",
        "    metrics_dict = metric_mgr.get_results()\n",
        "    metric_mgr.reset()\n",
        "    val_loss_total_avg = val_loss_total / num_steps\n",
        "   \n",
        "    print('\\nTrain loss: {:.4f}, Training Accuracy: {:.4f} '.format(train_loss_total_avg, train_acc))\n",
        "    print('Val Loss: {:.4f}, Validation Accuracy: {:.4f} '.format(val_loss_total_avg, metrics_dict[\"accuracy_score\"]))"
      ],
      "execution_count": 32,
      "outputs": [
        {
          "output_type": "stream",
          "text": [
            "\r  0%|          | 0/10 [00:00<?, ?it/s]/usr/local/lib/python3.6/dist-packages/torch/optim/lr_scheduler.py:82: UserWarning: Detected call of `lr_scheduler.step()` before `optimizer.step()`. In PyTorch 1.1.0 and later, you should call them in the opposite order: `optimizer.step()` before `lr_scheduler.step()`.  Failure to do this will result in PyTorch skipping the first value of the learning rate schedule.See more details at https://pytorch.org/docs/stable/optim.html#how-to-adjust-learning-rate\n",
            "  \"https://pytorch.org/docs/stable/optim.html#how-to-adjust-learning-rate\", UserWarning)\n",
            "/usr/local/lib/python3.6/dist-packages/torch/nn/functional.py:2479: UserWarning: Default upsampling behavior when mode=bilinear is changed to align_corners=False since 0.4.0. Please specify align_corners=True if the old behavior is desired. See the documentation of nn.Upsample for details.\n",
            "  \"See the documentation of nn.Upsample for details.\".format(mode))\n",
            "/usr/local/lib/python3.6/dist-packages/torch/nn/functional.py:1350: UserWarning: nn.functional.sigmoid is deprecated. Use torch.sigmoid instead.\n",
            "  warnings.warn(\"nn.functional.sigmoid is deprecated. Use torch.sigmoid instead.\")\n",
            "/usr/local/lib/python3.6/dist-packages/scipy/spatial/distance.py:1412: RuntimeWarning: invalid value encountered in double_scalars\n",
            "  return float((ntf + nft) / np.array(2.0 * ntt + ntf + nft))\n",
            " 10%|█         | 1/10 [01:45<15:47, 105.26s/it]"
          ],
          "name": "stderr"
        },
        {
          "output_type": "stream",
          "text": [
            "\n",
            "Train loss: -0.5289, Training Accuracy: 92.2419 \n",
            "Val Loss: -0.8361, Validation Accuracy: 99.0672 \n"
          ],
          "name": "stdout"
        },
        {
          "output_type": "stream",
          "text": [
            "\r 20%|██        | 2/10 [03:29<13:58, 104.86s/it]"
          ],
          "name": "stderr"
        },
        {
          "output_type": "stream",
          "text": [
            "\n",
            "Train loss: -0.8647, Training Accuracy: 86.8185 \n",
            "Val Loss: -0.8978, Validation Accuracy: 99.4356 \n"
          ],
          "name": "stdout"
        },
        {
          "output_type": "stream",
          "text": [
            "\r 30%|███       | 3/10 [05:13<12:12, 104.70s/it]"
          ],
          "name": "stderr"
        },
        {
          "output_type": "stream",
          "text": [
            "\n",
            "Train loss: -0.8943, Training Accuracy: 93.2866 \n",
            "Val Loss: -0.9234, Validation Accuracy: 99.5568 \n"
          ],
          "name": "stdout"
        },
        {
          "output_type": "stream",
          "text": [
            "\r 40%|████      | 4/10 [06:57<10:27, 104.51s/it]"
          ],
          "name": "stderr"
        },
        {
          "output_type": "stream",
          "text": [
            "\n",
            "Train loss: -0.9058, Training Accuracy: 91.0154 \n",
            "Val Loss: -0.9093, Validation Accuracy: 99.4970 \n"
          ],
          "name": "stdout"
        },
        {
          "output_type": "stream",
          "text": [
            "\r 50%|█████     | 5/10 [08:46<08:49, 105.86s/it]"
          ],
          "name": "stderr"
        },
        {
          "output_type": "stream",
          "text": [
            "\n",
            "Train loss: -0.9135, Training Accuracy: 94.4209 \n",
            "Val Loss: -0.9261, Validation Accuracy: 99.5721 \n"
          ],
          "name": "stdout"
        },
        {
          "output_type": "stream",
          "text": [
            "\r 60%|██████    | 6/10 [10:30<07:01, 105.34s/it]"
          ],
          "name": "stderr"
        },
        {
          "output_type": "stream",
          "text": [
            "\n",
            "Train loss: -0.9197, Training Accuracy: 97.3552 \n",
            "Val Loss: -0.9244, Validation Accuracy: 99.5776 \n"
          ],
          "name": "stdout"
        },
        {
          "output_type": "stream",
          "text": [
            "\r 70%|███████   | 7/10 [12:15<05:15, 105.11s/it]"
          ],
          "name": "stderr"
        },
        {
          "output_type": "stream",
          "text": [
            "\n",
            "Train loss: -0.9229, Training Accuracy: 95.9522 \n",
            "Val Loss: -0.9256, Validation Accuracy: 99.5790 \n"
          ],
          "name": "stdout"
        },
        {
          "output_type": "stream",
          "text": [
            "\r 80%|████████  | 8/10 [13:59<03:29, 104.95s/it]"
          ],
          "name": "stderr"
        },
        {
          "output_type": "stream",
          "text": [
            "\n",
            "Train loss: -0.9274, Training Accuracy: 93.9997 \n",
            "Val Loss: -0.9228, Validation Accuracy: 99.5714 \n"
          ],
          "name": "stdout"
        },
        {
          "output_type": "stream",
          "text": [
            "\r 90%|█████████ | 9/10 [15:44<01:44, 104.92s/it]"
          ],
          "name": "stderr"
        },
        {
          "output_type": "stream",
          "text": [
            "\n",
            "Train loss: -0.9292, Training Accuracy: 96.7463 \n",
            "Val Loss: -0.9251, Validation Accuracy: 99.5744 \n"
          ],
          "name": "stdout"
        },
        {
          "output_type": "stream",
          "text": [
            "\r100%|██████████| 10/10 [17:33<00:00, 106.20s/it]"
          ],
          "name": "stderr"
        },
        {
          "output_type": "stream",
          "text": [
            "\n",
            "Train loss: -0.9290, Training Accuracy: 95.0296 \n",
            "Val Loss: -0.9257, Validation Accuracy: 99.5762 \n"
          ],
          "name": "stdout"
        },
        {
          "output_type": "stream",
          "text": [
            "\n"
          ],
          "name": "stderr"
        }
      ]
    },
    {
      "cell_type": "markdown",
      "metadata": {
        "id": "pEmtOczpglkP",
        "colab_type": "text"
      },
      "source": [
        "## Summary\n",
        "In summary, we learned how to process MRI image scans using a neat and powerful tool known as medicaltorch. In addition, we learned about how to preprocess, prepare and load the data using medicaltorch and PyTorch's build-in DataLoader module. Finally, we trained a model based on convolutional neural networks to conduct spinal cord gray matter segmentation."
      ]
    }
  ]
}